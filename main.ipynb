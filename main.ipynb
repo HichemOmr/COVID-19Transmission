{
  "nbformat": 4,
  "nbformat_minor": 0,
  "metadata": {
    "colab": {
      "name": "Copy of Untitled4.ipynb",
      "provenance": [],
      "private_outputs": true,
      "collapsed_sections": [],
      "authorship_tag": "ABX9TyNwlZHKkp+3UrH5kdzs54Hv",
      "include_colab_link": true
    },
    "kernelspec": {
      "name": "ir",
      "display_name": "R"
    },
    "accelerator": "GPU"
  },
  "cells": [
    {
      "cell_type": "markdown",
      "metadata": {
        "id": "view-in-github",
        "colab_type": "text"
      },
      "source": [
        "<a href=\"https://colab.research.google.com/github/HichemOmr/CovidTransmission/blob/master/main.ipynb\" target=\"_parent\"><img src=\"https://colab.research.google.com/assets/colab-badge.svg\" alt=\"Open In Colab\"/></a>"
      ]
    },
    {
      "cell_type": "code",
      "metadata": {
        "id": "jvf0Z8NLolNt",
        "colab_type": "code",
        "colab": {}
      },
      "source": [
        "x=1:10\n",
        "y=x^2\n",
        "plot(x,y)"
      ],
      "execution_count": 0,
      "outputs": []
    }
  ]
}